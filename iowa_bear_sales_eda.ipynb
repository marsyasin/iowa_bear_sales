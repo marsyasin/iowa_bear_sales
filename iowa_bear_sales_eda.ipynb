{
 "cells": [
  {
   "cell_type": "markdown",
   "metadata": {},
   "source": [
    "## HW 1 is due on 02/01/2024 at 11:59 PM\n",
    "## Instructions"
   ]
  },
  {
   "cell_type": "markdown",
   "metadata": {},
   "source": [
    "1) Label your homework solutions with your ISU idnumber ( first 4 digits), such as HW1_Solutions_3938. This HW will be peer + Instructor graded.\n",
    "\n",
    "2) Deliverables: You need to submit 3 files.\n",
    "* ipython notebook file with all of your solutions and codes\n",
    "* HTML file of your ipython notebook file.\n",
    "* Your HW solution in a pdf file. Please write this part of the solution in a research paper format: Give a proper title, solve each problems and write findings so that you tell a story with the data set you have and the problems you need to solve. Attach plots, figures,  wherever necessary. \n",
    " \n",
    "3) Special instructions on how to solve the HW problems.\n",
    "* For each problem, begin by solving it independently to the best of your ability. You can use ChatGPT, Google Bard, or other AI tools to seek hints, guidance, or alternative approaches to the problems. Engage these AI tools to enhance your understanding and explore different solution strategies.\n",
    "\n",
    "* After completing all the problems, reflect on your experience by summarizing how you used ChatGPT/Bard or other AI tools, the specific problems you sought help with, and the valuable insights they offered. Discuss the strengths and limitations of both your initial solutions and the AI-generated ones for each of the problems. This integrated approach helps you leverage AI's power while refining your own analytical skills. It's not just about getting the answer; it's about learning through the process!\n",
    "\n",
    "4) To submit your homework solutions, go to our course in Canvas --> Assignments --> HW 1 --> Submit Assignment --> Click \"Choose File\" --> choose the HTML file you saved --> Click another file--> choose ipynb file--> Repeat this process to add a pdf file--submit. Once you submit, download and check to ensure that you have submitted the correct files.\n",
    "\n",
    "5) <font color='red'> WARNING: Your submission will be compared against other students' solutions and online databases to check for plagiarism. Disclosure of this assignment and assignment answers to anybody or any website is a contributory infringement of academic dishonesty at ISU. Do not share or post course materials without the express written consent of the copyright holder and instructor. The class will follow Iowa State University’s policy on academic dishonesty. Anyone suspected of academic dishonesty will be reported to the Dean of Students Office.</font>"
   ]
  },
  {
   "cell_type": "markdown",
   "metadata": {},
   "source": [
    "## Points:  $\\bf 20\\times 5  = 100$"
   ]
  },
  {
   "cell_type": "markdown",
   "metadata": {},
   "source": [
    "We will be using the Iowa Liquor Sales Data Set. Please go to https://data.iowa.gov/Sales-Distribution/Iowa-Liquor-Sales/m3tr-qhgy/data_preview and download the Iowa Liquor Sales data set. It may take some time for you to download, upload, and process the functions based on your internet speed and computer, as it is a big data set with several million rows. When you do the following problems, you may run into issues related to the computer memory, time etc. Sampling data randomly by taking any fraction of the data from 30% to 100% based on how much your computer can handle is okay. Some numerical answers may be different for different students because of the sampling above ( which is fine with me), but the process is more important for you to go through for this homework. "
   ]
  },
  {
   "cell_type": "markdown",
   "metadata": {},
   "source": [
    "### Problem 1. \n",
    "Upload the Iowa Liquor Sales ( ILS) Data Set (and do the following. \n",
    "* Show the head and the tail of the data set. Find the dimension of the data set. What % did you have to sample( if any)? \n",
    "* Do all the columns( variables) have correct data type labels? If not, find out which ones do not and correct their daya types. \n",
    "* Find out how many missing values each of the columns has. For the rest of the columns with missing values, imput in the missing values by the mode of each column.\n",
    "* Make a list of all the remaining columns. Read the Python Enhancement Proposal (https://peps.python.org/pep-0008/#function-and-variable-names) and use the variable naming convention to change the names of the columns of the data.\n",
    "* Extract the year, month, and days of the week (i.e., Sunday, Monday, etc) and add the corresponding columns to the data with appropriate column names.\n",
    "\n",
    "( When you do all the above with the ILS data, you can rename it to anything you like or keep it the same.)"
   ]
  },
  {
   "cell_type": "code",
   "execution_count": 1,
   "metadata": {},
   "outputs": [],
   "source": [
    "# Your solution goes here. Add more cells as needed."
   ]
  },
  {
   "cell_type": "markdown",
   "metadata": {},
   "source": [
    "### Problem 2. \n",
    "Continuing with the cleaned data set you obtained in problem 1, do the following.\n",
    "* The data should have 99 counties from Iowa. How do you verify this? If there is something wrong with the number of counties, fix it.\n",
    "* What is the average profit margin (percentage) for each sale? Could you explain how you find it?\n",
    "* Which day and month do Iowans frequent Liquor stores the most number of times? Has this changed over the years?\n",
    "* The news  (https://k923.fm/which-iowa-counties-excessively-drink-the-most-alcohol/) reported in August 2023 that:  \n",
    "\"Both Dubuque and Buchanan counties reported having 27% of adults who are considered to be excessive drinkers. Both these eastern Iowa counties beat out the state average by 2%. Some counties weren't too far behind as Palo Alto, Boone, Carroll, Chickasaw, Winneshiek, and Lee, all reported 26% of adults being excessive drinkers.\"  \n",
    "If you were to verify this using the ILS data you have, how do you go about it? Explain and prove the above, True or False.\n",
    "* What are the top three selling Vodkas, Whiskies, and flavored liquors ( Liqueurs and Cordials) by year?"
   ]
  },
  {
   "cell_type": "code",
   "execution_count": null,
   "metadata": {},
   "outputs": [],
   "source": []
  },
  {
   "cell_type": "markdown",
   "metadata": {},
   "source": [
    "### Problem 3. \n",
    "Continuing with the data set obtained in problem 1, solve the following. These problems involve plotting. Make sure to use proper titles, labels, legends, and plot size to make your plot better.\n",
    "* Analyze annual trends in average and median liquor sales in Iowa from 2012 to 2023. Use line charts to visualize changes over the years. Investigate the impact of the COVID-19 pandemic on sales during 2019-2021.\n",
    "\n",
    "* How do the monthly patterns of liquor sales in Iowa vary when visualizing the total volume sold (in Liters) with a horizontal bar plot? Furthermore, what insights can be gained from a vertical bar plot depicting the distribution of average sales (in Dollars) by days? \n",
    "* Discover the top 10 counties in Iowa with the highest and lowest number of bottles sold. Use a pie chart to visualize the distribution, providing insights into both significant contributors and areas with lower sales among the counties.\n",
    "* Create a scatter plot visualizing the relationship between 'State Bottle Retail' and 'Volume Sold (Gallons)' in Iowa liquor sales. Explore the correlation between these two columns to understand if and how they are related. \n",
    "* Let $Q1, Q3,$ and $IQR$ be the first quartile, third quartile and the interquartile range. Any data point lower than $Q1 - 1.5 IQR$ or higher than $Q3 + 1.5 IQR$ is an outlier. Using this formula, find two numerical variables that have the highest number of outliers. Use the box plot to verify that what you just saw is correct."
   ]
  },
  {
   "cell_type": "code",
   "execution_count": null,
   "metadata": {},
   "outputs": [],
   "source": []
  },
  {
   "cell_type": "markdown",
   "metadata": {},
   "source": [
    "### Problem 4. \n",
    "Utilize the cleaned data from Problem 1 for this problem. Use the columns listed below with their updated names listed below to filter the data before proceeding.\n",
    "\n",
    "* If you want to make a linear regression model, how do you designate the target variable (y) and determine the features (x) in the data you just created? Explain your rationale. Explore and explain also the categorical variables that can be used in the regression model by using dummy coding techniques.\n",
    "\n",
    "* Based on your considerations in part a, make a regression model by selecting features and targets using your preferred method (OLS, Decision Tree, SVM, Random Forest, KNN). Feature selection may involve criteria such as p-values or correlation. Allocate 25% of the data for testing. Provide the training and testing R-squared values and RMSE.\n",
    "\n",
    "* With the data above in this problem, use the \"Category Name\" column and extract the top 5 category names from the data. Remove all the rows that do not have these top 5 category names. This column serves as the target variable for the classification model you will be making. For features, use those used in the regression above and adjust based on your analysis.\n",
    "\n",
    "* Make a classification model with \"Category Name\" as the target variable, using one of the ML methods of your choice (Decision Tree, SVM, Random Forest, KNN). Allocate 25% of the data for testing. Report training and testing accuracy scores. Generate a heatmap of the confusion matrix for the testing data.\n",
    "\n",
    "* What methods and techniques can you think of if you want to improve the scores and metrics in parts 2 and 4 above? There is no need to make any model here."
   ]
  },
  {
   "cell_type": "code",
   "execution_count": 2,
   "metadata": {},
   "outputs": [],
   "source": [
    "columns = ['Zip Code', 'County','Category Name', 'Vendor Name', \n",
    "           'Item Description', 'Pack', 'Bottle Volume (ml)',\n",
    "           'State Bottle Cost', 'State Bottle Retail', 'Bottles Sold',\n",
    "           'Sale (Dollars)', 'Volume Sold (Liters)', \n",
    "           'Volume Sold (Gallons)','Year', 'Month', 'Day']"
   ]
  },
  {
   "cell_type": "markdown",
   "metadata": {},
   "source": [
    "### Problem 5. \n",
    "You will use the data from problem 4 for this problem. Remove all categorical columns and retain only numerical columns for clustering.\n",
    "\n",
    "* Determine the optimal number of clusters by emploing methods like the elbow method or silhouette analysis to identify the optimal number of clusters. Clearly explain the reasoning behind your choice of the optimal number.\n",
    "\n",
    "* Create a K-means clustering model by utilizing the optimal number of clusters from step 1. Implement random seeding to ensure the reproducibility of cluster labels.\n",
    "\n",
    "* Append a new column named \"Clusters\" containing the assigned cluster labels for each data point to the cleaned dataset ( from problem 1).\n",
    "\n",
    "* Discover five new previously unknown insights about the ILS data using the cluster labels along with other relevant columns (e.g., Month, Day, Year, Category Name, Zip Codes, Price, and quantity-related columns).\n",
    "\n",
    "* Explain the absence of the test-train split method and the accuracy scores in the clustering model you just made. Compare and contrast clustering's unsupervised nature with the supervised approaches of regression and classification."
   ]
  },
  {
   "cell_type": "code",
   "execution_count": 3,
   "metadata": {},
   "outputs": [],
   "source": [
    "# Your solution code goes here. Add more cells as needed."
   ]
  },
  {
   "cell_type": "code",
   "execution_count": 4,
   "metadata": {},
   "outputs": [],
   "source": [
    "# Use this cell to reflect on this HW. Also explain the extent of\n",
    "# AI tools use you made in each of the problem above."
   ]
  },
  {
   "cell_type": "code",
   "execution_count": null,
   "metadata": {},
   "outputs": [],
   "source": []
  }
 ],
 "metadata": {
  "kernelspec": {
   "display_name": "Python 3 (ipykernel)",
   "language": "python",
   "name": "python3"
  },
  "language_info": {
   "codemirror_mode": {
    "name": "ipython",
    "version": 3
   },
   "file_extension": ".py",
   "mimetype": "text/x-python",
   "name": "python",
   "nbconvert_exporter": "python",
   "pygments_lexer": "ipython3",
   "version": "3.9.18"
  },
  "latex_envs": {
   "LaTeX_envs_menu_present": true,
   "autoclose": false,
   "autocomplete": true,
   "bibliofile": "biblio.bib",
   "cite_by": "apalike",
   "current_citInitial": 1,
   "eqLabelWithNumbers": true,
   "eqNumInitial": 1,
   "hotkeys": {
    "equation": "Ctrl-E",
    "itemize": "Ctrl-I"
   },
   "labels_anchors": false,
   "latex_user_defs": false,
   "report_style_numbering": false,
   "user_envs_cfg": false
  },
  "varInspector": {
   "cols": {
    "lenName": 16,
    "lenType": 16,
    "lenVar": 40
   },
   "kernels_config": {
    "python": {
     "delete_cmd_postfix": "",
     "delete_cmd_prefix": "del ",
     "library": "var_list.py",
     "varRefreshCmd": "print(var_dic_list())"
    },
    "r": {
     "delete_cmd_postfix": ") ",
     "delete_cmd_prefix": "rm(",
     "library": "var_list.r",
     "varRefreshCmd": "cat(var_dic_list()) "
    }
   },
   "types_to_exclude": [
    "module",
    "function",
    "builtin_function_or_method",
    "instance",
    "_Feature"
   ],
   "window_display": false
  }
 },
 "nbformat": 4,
 "nbformat_minor": 2
}
